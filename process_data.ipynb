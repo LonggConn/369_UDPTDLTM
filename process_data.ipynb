{
 "cells": [
  {
   "cell_type": "code",
   "execution_count": 1,
   "id": "ccf95fd8",
   "metadata": {},
   "outputs": [],
   "source": [
    "import pandas as pd\n",
    "import os"
   ]
  },
  {
   "cell_type": "code",
   "execution_count": 2,
   "id": "d02aa742",
   "metadata": {},
   "outputs": [],
   "source": [
    "# Copy from problem_2\n",
    "def read_all_shop_info(data_dir):\n",
    "  df_list = []\n",
    "  filename_list = sorted([os.path.join(data_dir,f) for f in os.listdir(data_dir)])\n",
    "  for filepath in filename_list:\n",
    "    df_list.append(pd.read_csv(filepath, sep = '\\t'))\n",
    "  df = pd.concat(df_list)\n",
    "  df.drop_duplicates(subset='Tên cửa hàng', inplace = True)\n",
    "  df.reset_index(drop = True, inplace = True)\n",
    "  return df"
   ]
  },
  {
   "cell_type": "code",
   "execution_count": 3,
   "id": "53eebc74",
   "metadata": {},
   "outputs": [],
   "source": [
    "# Copy from problem_2\n",
    "df = read_all_shop_info('NewData')"
   ]
  },
  {
   "cell_type": "code",
   "execution_count": 4,
   "id": "d54b4d71",
   "metadata": {},
   "outputs": [],
   "source": [
    "# Copy from problem_2\n",
    "def get_menu_stat(store_name):\n",
    "  menufile_path = os.path.join(os.getcwd(), 'NewMenuStore', store_name)\n",
    "  try:\n",
    "    df = pd.read_csv(menufile_path, encoding = 'utf-8')\n",
    "    df['Price'] = df['Price'].str.replace(',','').astype(int)\n",
    "    return df.shape[0], df['Price'].mean()\n",
    "  except:\n",
    "    try:\n",
    "      df = pd.read_csv(menufile_path + '.txt', encoding = 'utf-8')\n",
    "      df['Price'] =df['Price'].str.replace(',','').astype(int)\n",
    "      return df.shape[0], df['Price'].mean()\n",
    "    except:\n",
    "      print('{} doesnt have menu info file'.format(store_name))\n",
    "      return 0, 0"
   ]
  },
  {
   "cell_type": "code",
   "execution_count": 5,
   "id": "c5dee7d4",
   "metadata": {},
   "outputs": [
    {
     "name": "stdout",
     "output_type": "stream",
     "text": [
      " Lẩu Dê Hoàng Diệu - Hoàng Diệu doesnt have menu info file\n",
      " Ăn Vặt Cô Bông - Đồ Ăn Vặt - Xuân Đỉnh doesnt have menu info file\n",
      "Roma Pizza doesnt have menu info file\n",
      "​​​​​​​Bento Delivery - Cơm Gà Xối Mỡ Chính Thống Sốt Mắm Tỏi - Hòa Hiệp doesnt have menu info file\n",
      "Cá Viên Chiên 333 - Nguyễn Biểu doesnt have menu info file\n"
     ]
    }
   ],
   "source": [
    "# Copy from problem_2\n",
    "temp_df = df.apply(lambda x\\\n",
    "  : get_menu_stat(x['Tên cửa hàng']) if x['Cửa hàng có menu'] == 1 else 0, axis = 1, result_type = 'expand')\n",
    "df['Tổng số lượng sản phẩm'] = temp_df.iloc[:,0].astype(int)\n",
    "df['Giá trung bình'] = temp_df.iloc[:,1].round(2)"
   ]
  },
  {
   "cell_type": "code",
   "execution_count": 6,
   "id": "b9c92ff5",
   "metadata": {},
   "outputs": [],
   "source": [
    "# Copy from problem_2\n",
    "df['Số sao trên Foody'] = df['Số sao trên Foody'].replace('<span>_._</span>','0')\n",
    "#Xử lý tên cửa hàng\n",
    "df['Tên cửa hàng'] = df['Tên cửa hàng'].replace('&amp;', 'Và')\n",
    "#Xử lý lượt đánh giá\n",
    "df['Số lượt đánh giá trên ShopeeFood'] = df['Số lượt đánh giá trên ShopeeFood'].apply(lambda x: '< 100' if x not in ['100+','500+','999+'] else x)\n",
    "#Xử lý Phí dịch vụ\n",
    "df['Phí dịch vụ'] = df['Phí dịch vụ'].apply(lambda x: 'Unknown' if x == 'ShopeeFood</span' else x)\n",
    "df['Số sao trên Foody'] = df['Số sao trên Foody'].astype('float64')\n",
    "df['Số lượt đánh giá trên Foody'] = df['Số lượt đánh giá trên Foody'].replace(',','', regex=True).astype(int)\n",
    "df['Giá thấp nhất'] = df['Giá thấp nhất'].replace(',','', regex=True).astype(int)\n",
    "df['Giá cao nhất'] = df['Giá cao nhất'].replace(',','', regex=True).astype(int)\n",
    "df['Thời gian mở cửa'] = df['Thời gian mở cửa'].apply(lambda x: 'Unknown' if x == '0' else x)"
   ]
  },
  {
   "cell_type": "markdown",
   "id": "895a6da6",
   "metadata": {},
   "source": [
    "## Loại các cửa hàng không ở TP. HCM"
   ]
  },
  {
   "cell_type": "code",
   "execution_count": 7,
   "id": "421bb8bd",
   "metadata": {},
   "outputs": [],
   "source": [
    "df = df[df['Địa chỉ cửa hàng'].str.contains(\"HCM\")]\n",
    "df = df.dropna()"
   ]
  },
  {
   "cell_type": "markdown",
   "id": "1ffd74f5",
   "metadata": {},
   "source": [
    "## Thêm cột \"Thành công\""
   ]
  },
  {
   "cell_type": "code",
   "execution_count": 8,
   "id": "067ae45f",
   "metadata": {},
   "outputs": [],
   "source": [
    "df['Thành công'] = (df['Số sao trên ShopeeFood'] >= 4.5) & \\\n",
    "    (df['Số lượt đánh giá trên ShopeeFood'] == '999+') & \\\n",
    "    (df['Số sao trên Foody'] > 7.0) & \\\n",
    "    (df['Số lượt đánh giá trên Foody'] > 10)"
   ]
  },
  {
   "cell_type": "code",
   "execution_count": 9,
   "id": "70458eaf",
   "metadata": {
    "scrolled": false
   },
   "outputs": [
    {
     "data": {
      "text/plain": [
       "<AxesSubplot: >"
      ]
     },
     "execution_count": 9,
     "metadata": {},
     "output_type": "execute_result"
    },
    {
     "data": {
      "image/png": "[encoded data removed]",
      "text/plain": [
       "<Figure size 640x480 with 1 Axes>"
      ]
     },
     "metadata": {},
     "output_type": "display_data"
    }
   ],
   "source": [
    "df['Thành công'].value_counts().plot.bar()"
   ]
  },
  {
   "cell_type": "markdown",
   "id": "ee0a0585",
   "metadata": {},
   "source": [
    "## Chỉnh sửa cột \"Loại cửa hàng\"\n",
    "\n",
    "Các loại cửa hàng có số lượng quá ít <50 sẽ gán thành \"Khác\""
   ]
  },
  {
   "cell_type": "code",
   "execution_count": 10,
   "id": "0c58938f",
   "metadata": {
    "scrolled": true
   },
   "outputs": [
    {
     "data": {
      "text/plain": [
       "Quán ăn                              2558\n",
       "Café/Dessert                         1441\n",
       "Ăn vặt/vỉa hè                         789\n",
       "Nhà hàng                              345\n",
       "Shop Online                           286\n",
       "Tiệm bánh                             177\n",
       "Ăn chay                                89\n",
       "Café/Dessert, Quán ăn                  51\n",
       "Ăn vặt/vỉa hè, Shop Online             34\n",
       "Quán ăn, Ăn vặt/vỉa hè                 33\n",
       "Quán ăn, Giao cơm văn phòng            20\n",
       "Café/Dessert, Ăn vặt/vỉa hè            19\n",
       "Shop/Cửa hàng                          18\n",
       "Café/Dessert, Tiệm bánh                18\n",
       "Quán nhậu                              14\n",
       "Quán ăn, Shop Online                   14\n",
       "Nhà hàng, Quán ăn                      11\n",
       "Tiệm bánh, Ăn vặt/vỉa hè                9\n",
       "Nhà hàng, Café/Dessert                  9\n",
       "Nhà hàng, Ăn chay                       7\n",
       "Café/Dessert, Shop Online               7\n",
       "Quán ăn, Ăn chay                        6\n",
       "Quán ăn, Tiệm bánh                      6\n",
       "Giao cơm văn phòng                      5\n",
       "Quán ăn, Khu Ẩm Thực                    4\n",
       "Tiệm bánh, Shop Online                  4\n",
       "Quán ăn, Quán nhậu                      4\n",
       "Nhà hàng, Buffet                        4\n",
       "Ăn vặt/vỉa hè, Giao cơm văn phòng       4\n",
       "Nhà hàng, Tiệc cưới/Hội nghị            3\n",
       "Sang trọng                              3\n",
       "Khu Ẩm Thực                             3\n",
       "Ăn vặt/vỉa hè, Ăn chay                  3\n",
       "Quán ăn, Shop/Cửa hàng                  3\n",
       "Nhà hàng, Quán nhậu                     2\n",
       "Nhà hàng, Sang trọng                    2\n",
       "Buffet                                  2\n",
       "Bar/Pub                                 2\n",
       "Shop Online, Ăn chay                    2\n",
       "Quán ăn, Sang trọng                     2\n",
       "Khách sạn                               1\n",
       "Café/Dessert, Bar/Pub                   1\n",
       "Quán ăn, Bar/Pub                        1\n",
       "Shop Online, Giao cơm văn phòng         1\n",
       "Tiệm bánh, Shop/Cửa hàng                1\n",
       "Café/Dessert, Giao cơm văn phòng        1\n",
       "Shop Online, Quán nhậu                  1\n",
       "Giao cơm văn phòng, Ăn chay             1\n",
       "Café/Dessert, Beer club                 1\n",
       "Shop Online, Mua sắm Online             1\n",
       "Shop/Cửa hàng, Mua sắm Online           1\n",
       "Nhà hàng, Khu Ẩm Thực                   1\n",
       "Nhà hàng, Tiệm bánh                     1\n",
       "Shop Online, Tiệc tận nơi               1\n",
       "Rạp chiếu phim                          1\n",
       "Name: Loại cửa hàng, dtype: int64"
      ]
     },
     "execution_count": 10,
     "metadata": {},
     "output_type": "execute_result"
    }
   ],
   "source": [
    "df_type_count = df['Loại cửa hàng'].value_counts()\n",
    "df_type_count"
   ]
  },
  {
   "cell_type": "code",
   "execution_count": 11,
   "id": "1e275a94",
   "metadata": {},
   "outputs": [],
   "source": [
    "df.loc[\n",
    "    df['Loại cửa hàng'].isin(df_type_count[df_type_count < 50].index),\n",
    "    'Loại cửa hàng'\n",
    "] = 'Khác'"
   ]
  },
  {
   "cell_type": "code",
   "execution_count": 12,
   "id": "28c8251f",
   "metadata": {
    "scrolled": true
   },
   "outputs": [
    {
     "data": {
      "text/plain": [
       "Quán ăn                  2558\n",
       "Café/Dessert             1441\n",
       "Ăn vặt/vỉa hè             789\n",
       "Nhà hàng                  345\n",
       "Khác                      292\n",
       "Shop Online               286\n",
       "Tiệm bánh                 177\n",
       "Ăn chay                    89\n",
       "Café/Dessert, Quán ăn      51\n",
       "Name: Loại cửa hàng, dtype: int64"
      ]
     },
     "execution_count": 12,
     "metadata": {},
     "output_type": "execute_result"
    }
   ],
   "source": [
    "df['Loại cửa hàng'].value_counts()"
   ]
  },
  {
   "cell_type": "code",
   "execution_count": 13,
   "id": "6ec4a483",
   "metadata": {},
   "outputs": [
    {
     "data": {
      "text/plain": [
       "<AxesSubplot: >"
      ]
     },
     "execution_count": 13,
     "metadata": {},
     "output_type": "execute_result"
    },
    {
     "data": {
      "image/png": "[encoded data removed]",
      "text/plain": [
       "<Figure size 640x480 with 1 Axes>"
      ]
     },
     "metadata": {},
     "output_type": "display_data"
    }
   ],
   "source": [
    "df['Loại cửa hàng'].value_counts().plot.barh()"
   ]
  },
  {
   "cell_type": "markdown",
   "id": "2ceaa3ba",
   "metadata": {},
   "source": [
    "## Thêm cột \"Quận\""
   ]
  },
  {
   "cell_type": "code",
   "execution_count": 14,
   "id": "b3a28968",
   "metadata": {},
   "outputs": [],
   "source": [
    "districts = [\n",
    "    'Quận 1', 'Quận 3', 'Quận 4', 'Quận 5', 'Quận 6', 'Quận 7', 'Quận 8', 'Quận 10', 'Quận 11', 'Quận 12',\n",
    "    'Bình Thạnh', 'Gò Vấp', 'Phú Nhuận','Tân Bình', 'Tân Phú', 'Bình Tân', \n",
    "    'Bình Chánh', 'Cần Giờ', 'Củ Chi', 'Hóc Môn', 'Nhà Bè',\n",
    "    'Quận 9', 'Quận 2', 'Thủ Đức'\n",
    "]"
   ]
  },
  {
   "cell_type": "code",
   "execution_count": 15,
   "id": "334f0555",
   "metadata": {},
   "outputs": [],
   "source": [
    "def get_district(df):\n",
    "    for d in districts:\n",
    "        if d in df['Địa chỉ cửa hàng']:\n",
    "            return d\n",
    "    return None"
   ]
  },
  {
   "cell_type": "code",
   "execution_count": 16,
   "id": "89d324ee",
   "metadata": {},
   "outputs": [],
   "source": [
    "df['Quận'] = df.apply(get_district, axis=1)"
   ]
  },
  {
   "cell_type": "code",
   "execution_count": 17,
   "id": "8e313232",
   "metadata": {},
   "outputs": [
    {
     "data": {
      "text/plain": [
       "Quận 1        1093\n",
       "Bình Thạnh     643\n",
       "Phú Nhuận      595\n",
       "Thủ Đức        446\n",
       "Gò Vấp         429\n",
       "Tân Bình       411\n",
       "Quận 3         367\n",
       "Quận 7         272\n",
       "Bình Tân       238\n",
       "Quận 4         225\n",
       "Quận 8         222\n",
       "Quận 5         201\n",
       "Tân Phú        190\n",
       "Quận 6         180\n",
       "Nhà Bè         162\n",
       "Quận 9         139\n",
       "Quận 2         134\n",
       "Bình Chánh      47\n",
       "Hóc Môn         33\n",
       "Name: Quận, dtype: int64"
      ]
     },
     "execution_count": 17,
     "metadata": {},
     "output_type": "execute_result"
    }
   ],
   "source": [
    "df['Quận'].value_counts()"
   ]
  },
  {
   "cell_type": "code",
   "execution_count": 18,
   "id": "40632641",
   "metadata": {},
   "outputs": [
    {
     "data": {
      "text/plain": [
       "<AxesSubplot: >"
      ]
     },
     "execution_count": 18,
     "metadata": {},
     "output_type": "execute_result"
    },
    {
     "data": {
      "image/png": "[encoded data removed]",
      "text/plain": [
       "<Figure size 640x480 with 1 Axes>"
      ]
     },
     "metadata": {},
     "output_type": "display_data"
    }
   ],
   "source": [
    "df['Quận'].value_counts().plot.barh()"
   ]
  },
  {
   "cell_type": "markdown",
   "id": "b8ae28e6",
   "metadata": {},
   "source": [
    "## Thêm cột \"Khoảng giá\""
   ]
  },
  {
   "cell_type": "code",
   "execution_count": 19,
   "id": "9fb5324e",
   "metadata": {},
   "outputs": [],
   "source": [
    "def get_price_range(df):\n",
    "    if df['Giá trung bình'] <= 50_000:\n",
    "        return '< 50k'\n",
    "    elif df['Giá trung bình'] <= 100_000:\n",
    "        return '50k - 100k'\n",
    "    elif df['Giá trung bình'] <= 200_000:\n",
    "        return '100k - 200k'\n",
    "    else:\n",
    "        return '> 200k'"
   ]
  },
  {
   "cell_type": "code",
   "execution_count": 20,
   "id": "1834d439",
   "metadata": {},
   "outputs": [],
   "source": [
    "df['Khoảng giá'] = df.apply(get_price_range, axis=1)"
   ]
  },
  {
   "cell_type": "code",
   "execution_count": 21,
   "id": "edb90150",
   "metadata": {},
   "outputs": [
    {
     "data": {
      "text/plain": [
       "<AxesSubplot: >"
      ]
     },
     "execution_count": 21,
     "metadata": {},
     "output_type": "execute_result"
    },
    {
     "data": {
      "image/png": "[encoded data removed]",
      "text/plain": [
       "<Figure size 640x480 with 1 Axes>"
      ]
     },
     "metadata": {},
     "output_type": "display_data"
    }
   ],
   "source": [
    "df['Khoảng giá'].value_counts().plot.barh()"
   ]
  },
  {
   "cell_type": "markdown",
   "id": "55495611",
   "metadata": {},
   "source": [
    "## Thêm cột \"Số lượng món\""
   ]
  },
  {
   "cell_type": "code",
   "execution_count": 22,
   "id": "93ec8e6c",
   "metadata": {},
   "outputs": [],
   "source": [
    "def get_disk_no_range(df):\n",
    "    if df['Tổng số lượng sản phẩm'] <= 10:\n",
    "        return '< 10'\n",
    "    elif df['Tổng số lượng sản phẩm'] <= 20:\n",
    "        return '10 - 20'\n",
    "    elif df['Tổng số lượng sản phẩm'] <= 50:\n",
    "        return '20 - 50'\n",
    "    elif df['Tổng số lượng sản phẩm'] <= 100:\n",
    "        return '50 - 100'\n",
    "    elif df['Tổng số lượng sản phẩm'] <= 200:\n",
    "        return '100 - 200'\n",
    "    else:\n",
    "        return '> 200'"
   ]
  },
  {
   "cell_type": "code",
   "execution_count": 23,
   "id": "588759c0",
   "metadata": {},
   "outputs": [],
   "source": [
    "df['Số lượng món'] = df.apply(get_disk_no_range, axis=1)"
   ]
  },
  {
   "cell_type": "code",
   "execution_count": 24,
   "id": "ae86ac0f",
   "metadata": {},
   "outputs": [
    {
     "data": {
      "text/plain": [
       "<AxesSubplot: >"
      ]
     },
     "execution_count": 24,
     "metadata": {},
     "output_type": "execute_result"
    },
    {
     "data": {
      "image/png": "[encoded data removed]",
      "text/plain": [
       "<Figure size 640x480 with 1 Axes>"
      ]
     },
     "metadata": {},
     "output_type": "display_data"
    }
   ],
   "source": [
    "df['Số lượng món'].value_counts().plot.barh()"
   ]
  },
  {
   "cell_type": "markdown",
   "id": "4165a2fd",
   "metadata": {},
   "source": [
    "## Thêm cột \"Thời gian mở cửa\""
   ]
  },
  {
   "cell_type": "code",
   "execution_count": 25,
   "id": "cf199756",
   "metadata": {},
   "outputs": [],
   "source": [
    "from datetime import datetime"
   ]
  },
  {
   "cell_type": "code",
   "execution_count": 26,
   "id": "c5daec49",
   "metadata": {},
   "outputs": [],
   "source": [
    "def to_datetime(s):\n",
    "    return datetime.strptime(s, '%H:%M')"
   ]
  },
  {
   "cell_type": "code",
   "execution_count": 27,
   "id": "5c0a2394",
   "metadata": {},
   "outputs": [],
   "source": [
    "def get_time_range(df):\n",
    "    try:\n",
    "        start, *_, end = str(df['Thời gian mở cửa']).split('-')\n",
    "        diff = to_datetime(end.strip()) - to_datetime(start.strip())\n",
    "        return diff.seconds // 3600\n",
    "    except:\n",
    "        return None"
   ]
  },
  {
   "cell_type": "code",
   "execution_count": 28,
   "id": "814386a0",
   "metadata": {},
   "outputs": [],
   "source": [
    "df['Khoảng thời gian mở cửa'] = df.apply(get_time_range, axis=1)"
   ]
  },
  {
   "cell_type": "code",
   "execution_count": 29,
   "id": "316f2e6d",
   "metadata": {},
   "outputs": [
    {
     "data": {
      "text/plain": [
       "<AxesSubplot: >"
      ]
     },
     "execution_count": 29,
     "metadata": {},
     "output_type": "execute_result"
    },
    {
     "data": {
      "image/png": "[encoded data removed]",
      "text/plain": [
       "<Figure size 640x480 with 1 Axes>"
      ]
     },
     "metadata": {},
     "output_type": "display_data"
    }
   ],
   "source": [
    "df['Khoảng thời gian mở cửa'].value_counts().plot.barh()"
   ]
  },
  {
   "cell_type": "markdown",
   "id": "819f5899",
   "metadata": {},
   "source": [
    "## Lưu data"
   ]
  },
  {
   "cell_type": "code",
   "execution_count": 30,
   "id": "81747efb",
   "metadata": {},
   "outputs": [],
   "source": [
    "df.to_csv('dataset.csv', sep='\\t', index=False)"
   ]
  },
  {
   "cell_type": "code",
   "execution_count": null,
   "id": "369e7436",
   "metadata": {},
   "outputs": [],
   "source": []
  }
 ],
 "metadata": {
  "kernelspec": {
   "display_name": "Python 3 (ipykernel)",
   "language": "python",
   "name": "python3"
  },
  "language_info": {
   "codemirror_mode": {
    "name": "ipython",
    "version": 3
   },
   "file_extension": ".py",
   "mimetype": "text/x-python",
   "name": "python",
   "nbconvert_exporter": "python",
   "pygments_lexer": "ipython3",
   "version": "3.10.8"
  }
 },
 "nbformat": 4,
 "nbformat_minor": 5
}
